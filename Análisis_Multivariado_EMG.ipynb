{
  "cells": [
    {
      "cell_type": "markdown",
      "metadata": {
        "id": "view-in-github",
        "colab_type": "text"
      },
      "source": [
        "<a href=\"https://colab.research.google.com/github/alejandrazuleta1/analisis-multivariado-emg/blob/main/An%C3%A1lisis_Multivariado_EMG.ipynb\" target=\"_parent\"><img src=\"https://colab.research.google.com/assets/colab-badge.svg\" alt=\"Open In Colab\"/></a>"
      ]
    },
    {
      "cell_type": "markdown",
      "metadata": {
        "id": "XjSHVOC-5hmB"
      },
      "source": [
        "**TRATAMIENTO DE SEÑALES III**\n",
        "\n",
        "**Facultad de Ingeniería**\n",
        "\n",
        "**Universidad de Antioquia**\n",
        "\n",
        "*Alejandra Zuleta Gónzalez, Santiago Patiño Guerrero y Natalia Pérez Puentes*\n",
        "\n",
        "*2021-2*"
      ]
    },
    {
      "cell_type": "markdown",
      "metadata": {
        "id": "MLI3l-FK7wM7"
      },
      "source": [
        "**Procedimiento para la Extracción de Características**\n",
        "\n",
        "\n",
        "1. Se tiene una señal de entrada $y(t) \\in \\mathcal{R}^{20000\\times 1}$\n",
        "2. Para la señal original: Calculamos $D_1=13$ características las cuales son a) RMSE b) MAE c) 5 Potencias máximas d) 5 Frecuencias a Pmax, e) Num de cruces por cero. Dando lugar a un vector de características $x_1  \\in \\mathcal{R}^{13\\times 1}$\n",
        "3. Luego Adicionaremos a estas $D_1$ características, otro conjunto a partir de descomposiciones Wavelet. En el cual para la señal original se realizará un proceso de $M$ descomposiciones utilizando la $dwt$\n",
        "4. Para cada nivel de descomposición $M$, se calcularán $D_2$ características, las cuales son: Entropía – variance, standard deviation, Mean, Median, 25th percentile value, 75th percentile value, Root Mean\n",
        "Square value; square of the average of the squared amplitude values, The mean of the derivative\n",
        "– Zero crossing rate, i.e. the number of times a signal crosses y = 0\n",
        "– Mean crossing rate, i.e. the number of times a signal crosses y = mean(y). Dando lugar a $D_2 = 12$ características por cada nivel de descomposición.\n",
        "\n",
        "Finalmente el vector completo de características para la señal $y(t)$, será:\n",
        "\n",
        "$x = [x_1,x_{des_1},\\cdots,x_{des_M}]^{\\top} \\in \\mathcal{R}^{(D_1*(M*D_2))\\times 1}$  \n",
        "\n",
        "La matriz completa será:\n",
        "$\\mathbf{X} = [x_1^\\top,x_2^\\top,\\cdots,x_N^\\top] \\in \\mathcal{R}^{N\\times (D_1*(M*D_2))}$"
      ]
    },
    {
      "cell_type": "code",
      "execution_count": null,
      "metadata": {
        "id": "knwbbJ-Z8h68"
      },
      "outputs": [],
      "source": [
        "#librerías\n",
        "from scipy.stats import entropy\n",
        "from scipy.io import loadmat\n",
        "import numpy as np\n",
        "import matplotlib.pyplot as plt\n",
        "from scipy import signal\n",
        "import pandas as pd"
      ]
    },
    {
      "cell_type": "code",
      "execution_count": null,
      "metadata": {
        "id": "Alf7iNOA5Enk"
      },
      "outputs": [],
      "source": [
        "#Funciones utilizadas\n",
        "def cruces_por_cero(signal):\n",
        "  cruces=0\n",
        "  for cont,valor in enumerate(signal):\n",
        "    if cont!=len(signal)-1:\n",
        "      if signal[cont]*signal[cont+1]<=0:\n",
        "        cruces+=1\n",
        "    else:\n",
        "      if signal[cont]*signal[cont-1]<0:\n",
        "        cruces+=1\n",
        "  return cruces\n",
        "\n",
        "\n",
        "\n",
        "\n",
        "def featureExtractionEMG(sampleSignal):\n",
        "  # Esta función toma como argumento de entrada una señal EMG de 20000 muestras y retorna 13 caracteristicas relacionadas a la señal\n",
        "  # a. Removemos el nivel DC\n",
        "  nivelDC = np.mean(sampleSignal)\n",
        "  sampleSignal = sampleSignal-nivelDC\n",
        "  # b. Normalicemos las señales para que tengan amplitud unitaria\n",
        "  maxSignal = np.abs(np.max(sampleSignal))\n",
        "  sampleSignal = sampleSignal/maxSignal\n",
        "  # Realicemos el análisis STFT\n",
        "  f, t, Zxx = signal.stft(sampleSignal, fs, nperseg=600)\n",
        "\n",
        "  rms = np.sqrt((np.sum(sampleSignal)**2)/len(sampleSignal))\n",
        "  mae = np.sum(np.abs(sampleSignal))/len(sampleSignal)\n",
        "  # En la matriz Zxx se tiene una matriz de #defrecs * #times\n",
        "# Zxx[i,j], sería el espectro en la frecuencia[i] y el tiempo [j]\n",
        "  absZxx = np.abs(Zxx)\n",
        "  Pmax_Zxx = np.max(absZxx,axis=1) # dB\n",
        "\n",
        "  Pmax_Zxx_dB = 20*np.log10(Pmax_Zxx)\n",
        "  idx = np.argsort(Pmax_Zxx_dB)\n",
        "  maximos = Pmax_Zxx_dB[idx]\n",
        "  auxPot = maximos[-5:]\n",
        "  frecuencias = f[idx]\n",
        "  fPmax_Zxx = frecuencias[-5:]\n",
        "  feature_set = np.zeros((13,))\n",
        "  feature_set[0] = rms\n",
        "  feature_set[1] = mae\n",
        "  feature_set[2:7] = auxPot\n",
        "  feature_set[7:12] = fPmax_Zxx\n",
        "  feature_set[12] = cruces_por_cero(sampleSignal)\n",
        "  # To do : calcular el número de cruces por cero\n",
        "  return feature_set\n",
        "\n",
        "\n",
        "\n",
        "\n",
        "def first_features(data_EMG):\n",
        "  L_Signal, Classes, Ntrials = np.shape(data_EMG)\n",
        "  D = 13 # número de características\n",
        "\n",
        "  X = np.zeros((Classes*Ntrials,D))\n",
        "  t = np.zeros((Classes*Ntrials,1))\n",
        "  pos = 0\n",
        "  for clase in range(0,Classes):\n",
        "    for n in range(0,Ntrials):\n",
        "      sampleSignal = data_EMG[:,clase,n]\n",
        "      # Luego le extraemos las D características a cada señal del experimento\n",
        "      x_n = featureExtractionEMG(sampleSignal)\n",
        "      X[pos, :] = x_n\n",
        "      t[pos] = clase\n",
        "      pos = pos + 1\n",
        "  return X , t\n",
        "\n",
        "\n",
        "\n",
        "\n",
        "def visualization(X,t):\n",
        "  Nombres = ['RMS','MAE','P1','P2','P3','P4','P5','F1','F2','F3','F4','F5','Num Cruces Por Cero']\n",
        "\n",
        "  dataFrame = pd.DataFrame(data = X, columns= Nombres)\n",
        "  dataFrame['Tipo Mov'] = t\n",
        "\n",
        "  return(dataFrame)\n",
        "\n",
        "\n",
        "\n",
        "def calculate_entropy(list_values):\n",
        "  value,counter_values = np.unique(list_values, return_counts=True)\n",
        "  entropyVal = entropy(counter_values, base=None)\n",
        "  return entropyVal\n",
        "\n",
        "\n",
        "\n",
        "\n",
        "def calculate_statistics(list_values):\n",
        "  n5 = np.nanpercentile(list_values, 5)\n",
        "  n25 = np.nanpercentile(list_values, 25)\n",
        "  n75 = np.nanpercentile(list_values, 75)\n",
        "  n95 = np.nanpercentile(list_values, 95)\n",
        "  median = np.nanpercentile(list_values, 50)\n",
        "  mean = np.nanmean(list_values)\n",
        "  std = np.nanstd(list_values)\n",
        "  var = np.nanvar(list_values)\n",
        "  rms = np.nanmean(np.sqrt(list_values**2))\n",
        "  return [n5, n25, n75, n95, median, mean, std, var, rms]\n",
        "\n",
        "\n",
        "\n",
        "\n",
        "def calculate_crossings(list_values):\n",
        "  zero_crossing_indices = np.where(np.diff(np.signbit(list_values)))[0]\n",
        "  no_zero_crossings = len(zero_crossing_indices)\n",
        "  mean_crossing_indices = np.where(np.diff(np.signbit(list_values-np.nanmean(list_values))))[0]\n",
        "  no_mean_crossings = len(mean_crossing_indices)\n",
        "  return [no_zero_crossings, no_mean_crossings]\n",
        "\n",
        "\n",
        "\n",
        "\n",
        "def get_features(list_values):\n",
        "  entropy = calculate_entropy(list_values)\n",
        "  crossings = calculate_crossings(list_values)\n",
        "  statistics = calculate_statistics(list_values)\n",
        "  return [entropy] + crossings + statistics\n"
      ]
    },
    {
      "cell_type": "code",
      "execution_count": null,
      "metadata": {
        "colab": {
          "background_save": true,
          "base_uri": "https://localhost:8080/"
        },
        "id": "iFooDITV-Z1N",
        "outputId": "787d8526-97f4-4078-d9dd-62c6cc03caf1"
      },
      "outputs": [
        {
          "name": "stdout",
          "output_type": "stream",
          "text": [
            "Mounted at /content/drive\n"
          ]
        }
      ],
      "source": [
        "from google.colab import drive\n",
        "drive.mount('/content/drive')"
      ]
    },
    {
      "cell_type": "code",
      "execution_count": null,
      "metadata": {
        "colab": {
          "background_save": true
        },
        "id": "lwB0TukX-gWo"
      },
      "outputs": [],
      "source": [
        "ruta = '/content/drive/Shareddrives/Señales III/EMG_SIGNAL/'\n",
        "data1 = loadmat(ruta+'S1_20140620T021349.mat')\n",
        "data2 = loadmat(ruta+'S2_20140623T203911.mat')\n",
        "data3 = loadmat(ruta+'S3_20140623T192807.mat')"
      ]
    },
    {
      "cell_type": "code",
      "execution_count": null,
      "metadata": {
        "colab": {
          "background_save": true
        },
        "id": "Wyp8I1y_-5yl"
      },
      "outputs": [],
      "source": [
        "data_EMG_1 = data1['data_EMG']\n",
        "data_EMG_2 = data2['data_EMG']\n",
        "data_EMG_3 = data3['data_EMG']\n",
        "\n",
        "fs = 4e3\n",
        "Ts = 1./fs"
      ]
    },
    {
      "cell_type": "code",
      "execution_count": null,
      "metadata": {
        "colab": {
          "background_save": true
        },
        "id": "6f7_tqsWDTPv"
      },
      "outputs": [],
      "source": [
        "x_1, t_1 = first_features(data_EMG_1)\n",
        "x_2, t_2 = first_features(data_EMG_2)\n",
        "x_3, t_3 = first_features(data_EMG_3)\n",
        "\n",
        "#visualization(x_1,t_1)"
      ]
    }
  ],
  "metadata": {
    "colab": {
      "collapsed_sections": [],
      "name": "Análisis Multivariado EMG.ipynb",
      "provenance": [],
      "include_colab_link": true
    },
    "kernelspec": {
      "display_name": "Python 3",
      "name": "python3"
    },
    "language_info": {
      "name": "python"
    }
  },
  "nbformat": 4,
  "nbformat_minor": 0
}